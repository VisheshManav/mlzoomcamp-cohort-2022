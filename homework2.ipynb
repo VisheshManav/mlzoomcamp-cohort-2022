{
  "nbformat": 4,
  "nbformat_minor": 0,
  "metadata": {
    "colab": {
      "provenance": [],
      "authorship_tag": "ABX9TyNZVeWU1fIm9n3HAG6iGawa",
      "include_colab_link": true
    },
    "kernelspec": {
      "name": "python3",
      "display_name": "Python 3"
    },
    "language_info": {
      "name": "python"
    }
  },
  "cells": [
    {
      "cell_type": "markdown",
      "metadata": {
        "id": "view-in-github",
        "colab_type": "text"
      },
      "source": [
        "<a href=\"https://colab.research.google.com/github/VisheshManav/mlzoomcamp-cohort-2022/blob/main/homework2.ipynb\" target=\"_parent\"><img src=\"https://colab.research.google.com/assets/colab-badge.svg\" alt=\"Open In Colab\"/></a>"
      ]
    },
    {
      "cell_type": "markdown",
      "source": [
        "---\n",
        "**Linear Regression Homework**\\\n",
        "Link to [Homework 2 Questions](https://github.com/alexeygrigorev/mlbookcamp-code/blob/master/course-zoomcamp/cohorts/2022/02-regression/homework.md)\\\n",
        "Link to [California Housing Prices Dataset](https://raw.githubusercontent.com/alexeygrigorev/datasets/master/housing.csv)\\\n",
        "Link to [mlzoomcamp course](https://github.com/alexeygrigorev/mlbookcamp-code/tree/master/course-zoomcamp)\n",
        "\n",
        "---"
      ],
      "metadata": {
        "id": "2FpKshi24QcB"
      }
    },
    {
      "cell_type": "code",
      "execution_count": 1,
      "metadata": {
        "id": "ov26LQ-U3zSk"
      },
      "outputs": [],
      "source": [
        "import numpy as np\n",
        "import pandas as pd\n",
        "import matplotlib.pyplot as plt\n",
        "import seaborn as sns\n",
        "\n",
        "%matplotlib inline"
      ]
    },
    {
      "cell_type": "code",
      "source": [
        "data = 'https://raw.githubusercontent.com/alexeygrigorev/datasets/master/housing.csv'"
      ],
      "metadata": {
        "id": "oVahS6ek4pDO"
      },
      "execution_count": 2,
      "outputs": []
    },
    {
      "cell_type": "code",
      "source": [
        "df = pd.read_csv(data)\n",
        "df.head(3)"
      ],
      "metadata": {
        "colab": {
          "base_uri": "https://localhost:8080/",
          "height": 207
        },
        "id": "9cMIcLvT41Iu",
        "outputId": "aaa355f5-40e5-4ae7-c60e-88e75adf3177"
      },
      "execution_count": 3,
      "outputs": [
        {
          "output_type": "execute_result",
          "data": {
            "text/plain": [
              "   longitude  latitude  housing_median_age  total_rooms  total_bedrooms  \\\n",
              "0    -122.23     37.88                41.0        880.0           129.0   \n",
              "1    -122.22     37.86                21.0       7099.0          1106.0   \n",
              "2    -122.24     37.85                52.0       1467.0           190.0   \n",
              "\n",
              "   population  households  median_income  median_house_value ocean_proximity  \n",
              "0       322.0       126.0         8.3252            452600.0        NEAR BAY  \n",
              "1      2401.0      1138.0         8.3014            358500.0        NEAR BAY  \n",
              "2       496.0       177.0         7.2574            352100.0        NEAR BAY  "
            ],
            "text/html": [
              "\n",
              "  <div id=\"df-53133442-ae36-4bd0-b21b-373b412dd9ed\">\n",
              "    <div class=\"colab-df-container\">\n",
              "      <div>\n",
              "<style scoped>\n",
              "    .dataframe tbody tr th:only-of-type {\n",
              "        vertical-align: middle;\n",
              "    }\n",
              "\n",
              "    .dataframe tbody tr th {\n",
              "        vertical-align: top;\n",
              "    }\n",
              "\n",
              "    .dataframe thead th {\n",
              "        text-align: right;\n",
              "    }\n",
              "</style>\n",
              "<table border=\"1\" class=\"dataframe\">\n",
              "  <thead>\n",
              "    <tr style=\"text-align: right;\">\n",
              "      <th></th>\n",
              "      <th>longitude</th>\n",
              "      <th>latitude</th>\n",
              "      <th>housing_median_age</th>\n",
              "      <th>total_rooms</th>\n",
              "      <th>total_bedrooms</th>\n",
              "      <th>population</th>\n",
              "      <th>households</th>\n",
              "      <th>median_income</th>\n",
              "      <th>median_house_value</th>\n",
              "      <th>ocean_proximity</th>\n",
              "    </tr>\n",
              "  </thead>\n",
              "  <tbody>\n",
              "    <tr>\n",
              "      <th>0</th>\n",
              "      <td>-122.23</td>\n",
              "      <td>37.88</td>\n",
              "      <td>41.0</td>\n",
              "      <td>880.0</td>\n",
              "      <td>129.0</td>\n",
              "      <td>322.0</td>\n",
              "      <td>126.0</td>\n",
              "      <td>8.3252</td>\n",
              "      <td>452600.0</td>\n",
              "      <td>NEAR BAY</td>\n",
              "    </tr>\n",
              "    <tr>\n",
              "      <th>1</th>\n",
              "      <td>-122.22</td>\n",
              "      <td>37.86</td>\n",
              "      <td>21.0</td>\n",
              "      <td>7099.0</td>\n",
              "      <td>1106.0</td>\n",
              "      <td>2401.0</td>\n",
              "      <td>1138.0</td>\n",
              "      <td>8.3014</td>\n",
              "      <td>358500.0</td>\n",
              "      <td>NEAR BAY</td>\n",
              "    </tr>\n",
              "    <tr>\n",
              "      <th>2</th>\n",
              "      <td>-122.24</td>\n",
              "      <td>37.85</td>\n",
              "      <td>52.0</td>\n",
              "      <td>1467.0</td>\n",
              "      <td>190.0</td>\n",
              "      <td>496.0</td>\n",
              "      <td>177.0</td>\n",
              "      <td>7.2574</td>\n",
              "      <td>352100.0</td>\n",
              "      <td>NEAR BAY</td>\n",
              "    </tr>\n",
              "  </tbody>\n",
              "</table>\n",
              "</div>\n",
              "      <button class=\"colab-df-convert\" onclick=\"convertToInteractive('df-53133442-ae36-4bd0-b21b-373b412dd9ed')\"\n",
              "              title=\"Convert this dataframe to an interactive table.\"\n",
              "              style=\"display:none;\">\n",
              "        \n",
              "  <svg xmlns=\"http://www.w3.org/2000/svg\" height=\"24px\"viewBox=\"0 0 24 24\"\n",
              "       width=\"24px\">\n",
              "    <path d=\"M0 0h24v24H0V0z\" fill=\"none\"/>\n",
              "    <path d=\"M18.56 5.44l.94 2.06.94-2.06 2.06-.94-2.06-.94-.94-2.06-.94 2.06-2.06.94zm-11 1L8.5 8.5l.94-2.06 2.06-.94-2.06-.94L8.5 2.5l-.94 2.06-2.06.94zm10 10l.94 2.06.94-2.06 2.06-.94-2.06-.94-.94-2.06-.94 2.06-2.06.94z\"/><path d=\"M17.41 7.96l-1.37-1.37c-.4-.4-.92-.59-1.43-.59-.52 0-1.04.2-1.43.59L10.3 9.45l-7.72 7.72c-.78.78-.78 2.05 0 2.83L4 21.41c.39.39.9.59 1.41.59.51 0 1.02-.2 1.41-.59l7.78-7.78 2.81-2.81c.8-.78.8-2.07 0-2.86zM5.41 20L4 18.59l7.72-7.72 1.47 1.35L5.41 20z\"/>\n",
              "  </svg>\n",
              "      </button>\n",
              "      \n",
              "  <style>\n",
              "    .colab-df-container {\n",
              "      display:flex;\n",
              "      flex-wrap:wrap;\n",
              "      gap: 12px;\n",
              "    }\n",
              "\n",
              "    .colab-df-convert {\n",
              "      background-color: #E8F0FE;\n",
              "      border: none;\n",
              "      border-radius: 50%;\n",
              "      cursor: pointer;\n",
              "      display: none;\n",
              "      fill: #1967D2;\n",
              "      height: 32px;\n",
              "      padding: 0 0 0 0;\n",
              "      width: 32px;\n",
              "    }\n",
              "\n",
              "    .colab-df-convert:hover {\n",
              "      background-color: #E2EBFA;\n",
              "      box-shadow: 0px 1px 2px rgba(60, 64, 67, 0.3), 0px 1px 3px 1px rgba(60, 64, 67, 0.15);\n",
              "      fill: #174EA6;\n",
              "    }\n",
              "\n",
              "    [theme=dark] .colab-df-convert {\n",
              "      background-color: #3B4455;\n",
              "      fill: #D2E3FC;\n",
              "    }\n",
              "\n",
              "    [theme=dark] .colab-df-convert:hover {\n",
              "      background-color: #434B5C;\n",
              "      box-shadow: 0px 1px 3px 1px rgba(0, 0, 0, 0.15);\n",
              "      filter: drop-shadow(0px 1px 2px rgba(0, 0, 0, 0.3));\n",
              "      fill: #FFFFFF;\n",
              "    }\n",
              "  </style>\n",
              "\n",
              "      <script>\n",
              "        const buttonEl =\n",
              "          document.querySelector('#df-53133442-ae36-4bd0-b21b-373b412dd9ed button.colab-df-convert');\n",
              "        buttonEl.style.display =\n",
              "          google.colab.kernel.accessAllowed ? 'block' : 'none';\n",
              "\n",
              "        async function convertToInteractive(key) {\n",
              "          const element = document.querySelector('#df-53133442-ae36-4bd0-b21b-373b412dd9ed');\n",
              "          const dataTable =\n",
              "            await google.colab.kernel.invokeFunction('convertToInteractive',\n",
              "                                                     [key], {});\n",
              "          if (!dataTable) return;\n",
              "\n",
              "          const docLinkHtml = 'Like what you see? Visit the ' +\n",
              "            '<a target=\"_blank\" href=https://colab.research.google.com/notebooks/data_table.ipynb>data table notebook</a>'\n",
              "            + ' to learn more about interactive tables.';\n",
              "          element.innerHTML = '';\n",
              "          dataTable['output_type'] = 'display_data';\n",
              "          await google.colab.output.renderOutput(dataTable, element);\n",
              "          const docLink = document.createElement('div');\n",
              "          docLink.innerHTML = docLinkHtml;\n",
              "          element.appendChild(docLink);\n",
              "        }\n",
              "      </script>\n",
              "    </div>\n",
              "  </div>\n",
              "  "
            ]
          },
          "metadata": {},
          "execution_count": 3
        }
      ]
    },
    {
      "cell_type": "code",
      "source": [
        "sns.histplot(df.median_house_value)"
      ],
      "metadata": {
        "colab": {
          "base_uri": "https://localhost:8080/",
          "height": 297
        },
        "id": "eMjtzhDO5U2B",
        "outputId": "73e0751c-9e1c-4c1e-aca3-425de478dff4"
      },
      "execution_count": 4,
      "outputs": [
        {
          "output_type": "execute_result",
          "data": {
            "text/plain": [
              "<matplotlib.axes._subplots.AxesSubplot at 0x7f33a14bfd10>"
            ]
          },
          "metadata": {},
          "execution_count": 4
        },
        {
          "output_type": "display_data",
          "data": {
            "text/plain": [
              "<Figure size 432x288 with 1 Axes>"
            ],
            "image/png": "[encoded data removed]"
          },
          "metadata": {
            "needs_background": "light"
          }
        }
      ]
    },
    {
      "cell_type": "code",
      "source": [
        "sns.histplot(np.log1p(df.median_house_value.values))"
      ],
      "metadata": {
        "colab": {
          "base_uri": "https://localhost:8080/",
          "height": 282
        },
        "id": "MM2DzZ-hvKVV",
        "outputId": "0b1bc17c-2b71-48a2-df04-02988ecec80e"
      },
      "execution_count": 5,
      "outputs": [
        {
          "output_type": "execute_result",
          "data": {
            "text/plain": [
              "<matplotlib.axes._subplots.AxesSubplot at 0x7f33a13b6dd0>"
            ]
          },
          "metadata": {},
          "execution_count": 5
        },
        {
          "output_type": "display_data",
          "data": {
            "text/plain": [
              "<Figure size 432x288 with 1 Axes>"
            ],
            "image/png": "[encoded data removed]"
          },
          "metadata": {
            "needs_background": "light"
          }
        }
      ]
    },
    {
      "cell_type": "code",
      "source": [
        "df.drop('ocean_proximity', axis=1, inplace=True)"
      ],
      "metadata": {
        "id": "C4Z0ReiW6FbJ"
      },
      "execution_count": 6,
      "outputs": []
    },
    {
      "cell_type": "markdown",
      "source": [
        "##Q1\n",
        "> Ans: 207"
      ],
      "metadata": {
        "id": "Ghx9dXWt8F5Y"
      }
    },
    {
      "cell_type": "code",
      "source": [
        "df.isna().sum()"
      ],
      "metadata": {
        "colab": {
          "base_uri": "https://localhost:8080/"
        },
        "id": "-3m2V4Vw7igX",
        "outputId": "5331422a-2247-4ada-d2bf-524509c7ef63"
      },
      "execution_count": 7,
      "outputs": [
        {
          "output_type": "execute_result",
          "data": {
            "text/plain": [
              "longitude               0\n",
              "latitude                0\n",
              "housing_median_age      0\n",
              "total_rooms             0\n",
              "total_bedrooms        207\n",
              "population              0\n",
              "households              0\n",
              "median_income           0\n",
              "median_house_value      0\n",
              "dtype: int64"
            ]
          },
          "metadata": {},
          "execution_count": 7
        }
      ]
    },
    {
      "cell_type": "markdown",
      "source": [
        "## Q2\n",
        "> Ans: 1166"
      ],
      "metadata": {
        "id": "DR_vHHFb8u9h"
      }
    },
    {
      "cell_type": "code",
      "source": [
        "df['population'].median()"
      ],
      "metadata": {
        "colab": {
          "base_uri": "https://localhost:8080/"
        },
        "id": "nr_OZXvK8X-D",
        "outputId": "981e3090-c18d-4dd0-8995-e0762628a6b4"
      },
      "execution_count": 8,
      "outputs": [
        {
          "output_type": "execute_result",
          "data": {
            "text/plain": [
              "1166.0"
            ]
          },
          "metadata": {},
          "execution_count": 8
        }
      ]
    },
    {
      "cell_type": "markdown",
      "source": [
        "### Functions:"
      ],
      "metadata": {
        "id": "3MNOfbwe9Nai"
      }
    },
    {
      "cell_type": "code",
      "source": [
        "def train_val_test_split(df, random_state=2):\n",
        "  np.random.seed(random_state)\n",
        "  n = len(df)\n",
        "\n",
        "  n_val = int(0.2 * n)\n",
        "  n_test = int(0.2 * n)\n",
        "  n_train = n - (n_val + n_test)\n",
        "\n",
        "  idx = np.arange(n)\n",
        "  np.random.shuffle(idx)\n",
        "  df_shuffled = df.iloc[idx]\n",
        "\n",
        "  df_train = df_shuffled.iloc[:n_train].copy().reset_index(drop=True)\n",
        "  df_val = df_shuffled.iloc[n_train:n_train+n_val].copy().reset_index(drop=True)\n",
        "  df_test = df_shuffled.iloc[n_train+n_val:].copy().reset_index(drop=True)\n",
        "\n",
        "  y_train = np.log1p(df_train['median_house_value'].values)\n",
        "  y_val = np.log1p(df_val['median_house_value'].values)\n",
        "  y_test = np.log1p(df_test['median_house_value'].values)\n",
        "\n",
        "  del df_train['median_house_value']\n",
        "  del df_val['median_house_value']\n",
        "  del df_test['median_house_value']\n",
        "\n",
        "  return (df_train, df_val, df_test, y_train, y_val, y_test)"
      ],
      "metadata": {
        "id": "SceqEp7iA6gm"
      },
      "execution_count": 9,
      "outputs": []
    },
    {
      "cell_type": "code",
      "source": [
        "def train_linear_regression(X, y, r=0.0):\n",
        "  ones = np.ones(X.shape[0])\n",
        "  X = np.column_stack([ones, X])\n",
        "\n",
        "  XTX = X.T.dot(X)\n",
        "  reg = r * np.eye(XTX.shape[0])\n",
        "  XTX = XTX + reg\n",
        "\n",
        "  XTX_inv = np.linalg.inv(XTX)\n",
        "  w = XTX_inv.dot(X.T).dot(y)\n",
        "\n",
        "  return w[0], w[1:]"
      ],
      "metadata": {
        "id": "Jq-uuNDnBQX6"
      },
      "execution_count": 10,
      "outputs": []
    },
    {
      "cell_type": "code",
      "source": [
        "def fillna_zero(df):\n",
        "  df_num = df.fillna(0)\n",
        "  X = df_num.values\n",
        "  return X\n",
        "\n",
        "def fillna_mean(df):\n",
        "  df_num = df.fillna({col:df[col].mean() for col in df.columns})\n",
        "  X = df_num.values\n",
        "  return X"
      ],
      "metadata": {
        "id": "q8Fd10xOLHRm"
      },
      "execution_count": 11,
      "outputs": []
    },
    {
      "cell_type": "code",
      "source": [
        "def rmse(y, y_pred):\n",
        "    error = y_pred - y\n",
        "    mse = (error ** 2).mean()\n",
        "    return np.sqrt(mse)"
      ],
      "metadata": {
        "id": "KMIw7O1qSJTR"
      },
      "execution_count": 12,
      "outputs": []
    },
    {
      "cell_type": "markdown",
      "source": [
        "### Q3\n",
        "> Ans: Both are equally good"
      ],
      "metadata": {
        "id": "KBnuduiSJLiP"
      }
    },
    {
      "cell_type": "code",
      "source": [
        "df_train, df_val, df_test, y_train, y_val, y_test = train_val_test_split(df, random_state=42)\n",
        "\n",
        "\n",
        "wz_0, wz = train_linear_regression(fillna_zero(df_train), y_train)\n",
        "wm_0, wm = train_linear_regression(fillna_mean(df_train), y_train)"
      ],
      "metadata": {
        "id": "3xLXna0FWMXv"
      },
      "execution_count": 13,
      "outputs": []
    },
    {
      "cell_type": "code",
      "source": [
        "X_val_zero = fillna_zero(df_val)\n",
        "X_val_mean = fillna_mean(df_val)\n",
        "\n",
        "y_pred_zero = wz_0 + X_val_zero.dot(wz)\n",
        "y_pred_mean = wm_0 + X_val_mean.dot(wm)\n",
        "\n",
        "error_zero = rmse(y_val, y_pred_zero)\n",
        "error_mean = rmse(y_val, y_pred_mean)\n",
        "\n",
        "round(error_zero, 2), round(error_mean, 2)"
      ],
      "metadata": {
        "colab": {
          "base_uri": "https://localhost:8080/"
        },
        "id": "ltJkDBinUhc_",
        "outputId": "730cf00c-eb90-4e80-f741-a5e9df468c17"
      },
      "execution_count": 14,
      "outputs": [
        {
          "output_type": "execute_result",
          "data": {
            "text/plain": [
              "(0.33, 0.33)"
            ]
          },
          "metadata": {},
          "execution_count": 14
        }
      ]
    },
    {
      "cell_type": "markdown",
      "source": [
        "### Q4\n",
        "> Ans: 0"
      ],
      "metadata": {
        "id": "vqfgH7PIPKXo"
      }
    },
    {
      "cell_type": "code",
      "source": [
        "r_values = [0, 0.000001, 0.0001, 0.001, 0.01, 0.1, 1, 5, 10]\n",
        "error_values = {}\n",
        "for r in r_values:\n",
        "  w_0, w = train_linear_regression(fillna_zero(df_train), y_train, r=r)\n",
        "  X_val = fillna_zero(df_val)\n",
        "  y_pred = w_0 + X_val.dot(w)\n",
        "  error = rmse(y_val, y_pred)\n",
        "  error_values[r] = round(error, 2)\n",
        "\n",
        "error_values[0], error_values[0.000001], error_values[0.001], error_values[0.0001]"
      ],
      "metadata": {
        "id": "v-TB7hImaJbl",
        "colab": {
          "base_uri": "https://localhost:8080/"
        },
        "outputId": "9d0af842-0d73-4047-c94a-caf4b3daefb9"
      },
      "execution_count": 15,
      "outputs": [
        {
          "output_type": "execute_result",
          "data": {
            "text/plain": [
              "(0.33, 0.33, 0.33, 0.33)"
            ]
          },
          "metadata": {},
          "execution_count": 15
        }
      ]
    },
    {
      "cell_type": "markdown",
      "source": [
        "### Q5\n",
        "> Ans: 0.005"
      ],
      "metadata": {
        "id": "0JeYnXOOX3ob"
      }
    },
    {
      "cell_type": "code",
      "source": [
        "seeds = range(10)\n",
        "error_values = []\n",
        "for seed in seeds:\n",
        "  df_train, df_val, df_test, y_train, y_val, y_test = train_val_test_split(df, random_state=seed)\n",
        "  w_0, w = train_linear_regression(fillna_zero(df_train), y_train)\n",
        "  X_val = fillna_zero(df_val)\n",
        "  y_pred = w_0 + X_val.dot(w)\n",
        "  error = round(rmse(y_val, y_pred), 2)\n",
        "  error_values.append(error)\n",
        "\n",
        "np.round(np.std(error_values), 3)"
      ],
      "metadata": {
        "colab": {
          "base_uri": "https://localhost:8080/"
        },
        "id": "zR59WcwAW2C8",
        "outputId": "76546ea0-5669-4862-d980-f9f646b2c676"
      },
      "execution_count": 16,
      "outputs": [
        {
          "output_type": "execute_result",
          "data": {
            "text/plain": [
              "0.005"
            ]
          },
          "metadata": {},
          "execution_count": 16
        }
      ]
    },
    {
      "cell_type": "markdown",
      "source": [
        "### Q6\n",
        "> Ans: 0.35"
      ],
      "metadata": {
        "id": "vPHxyvKQcS7i"
      }
    },
    {
      "cell_type": "code",
      "source": [
        "df_train, df_val, df_test, y_train, y_val, y_test = train_val_test_split(df, random_state=9)\n",
        "df_train_val = pd.concat([df_train, df_val], axis=0).reset_index(drop=True)\n",
        "y_train_val = np.concatenate([y_train, y_val], axis=0)\n",
        "X_train_val = fillna_zero(df_train_val)\n",
        "\n",
        "w_0, w = train_linear_regression(X_train_val, y_train_val, r=0.001)\n",
        "X_test = fillna_zero(df_test)\n",
        "y_pred = w_0 + X_test.dot(w)\n",
        "round(rmse(y_test, y_pred), 2)\n"
      ],
      "metadata": {
        "colab": {
          "base_uri": "https://localhost:8080/"
        },
        "id": "Ntxn-uh2b653",
        "outputId": "a0e1101d-2f23-49d2-9916-76fc5335333f"
      },
      "execution_count": 17,
      "outputs": [
        {
          "output_type": "execute_result",
          "data": {
            "text/plain": [
              "0.35"
            ]
          },
          "metadata": {},
          "execution_count": 17
        }
      ]
    }
  ]
}
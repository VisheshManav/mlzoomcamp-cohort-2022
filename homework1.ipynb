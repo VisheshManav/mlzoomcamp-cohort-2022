{
  "nbformat": 4,
  "nbformat_minor": 0,
  "metadata": {
    "colab": {
      "provenance": [],
      "authorship_tag": "ABX9TyMUAb45gJONFEnSRSe51mlF",
      "include_colab_link": true
    },
    "kernelspec": {
      "name": "python3",
      "display_name": "Python 3"
    },
    "language_info": {
      "name": "python"
    }
  },
  "cells": [
    {
      "cell_type": "markdown",
      "metadata": {
        "id": "view-in-github",
        "colab_type": "text"
      },
      "source": [
        "<a href=\"https://colab.research.google.com/github/VisheshManav/mlzoomcamp-cohort-2022/blob/main/homework1.ipynb\" target=\"_parent\"><img src=\"https://colab.research.google.com/assets/colab-badge.svg\" alt=\"Open In Colab\"/></a>"
      ]
    },
    {
      "cell_type": "markdown",
      "source": [
        "> This is my homework for week 1 for mlzoomcamp course. "
      ],
      "metadata": {
        "id": "LlcSkNUxiszX"
      }
    },
    {
      "cell_type": "code",
      "source": [
        "# importing libraries\n",
        "import numpy as np\n",
        "import pandas as pd"
      ],
      "metadata": {
        "id": "x_H8BclqQr7K"
      },
      "execution_count": 36,
      "outputs": []
    },
    {
      "cell_type": "markdown",
      "source": [
        "# Question 1\n",
        "`Answer: 1.21.6`"
      ],
      "metadata": {
        "id": "NnyI7u7bRGvK"
      }
    },
    {
      "cell_type": "code",
      "execution_count": 37,
      "metadata": {
        "colab": {
          "base_uri": "https://localhost:8080/",
          "height": 35
        },
        "id": "hE1hHkPRQTgt",
        "outputId": "fda42dbf-a4c1-40c1-e3ad-9fe25b1ab064"
      },
      "outputs": [
        {
          "output_type": "execute_result",
          "data": {
            "text/plain": [
              "'1.21.6'"
            ],
            "application/vnd.google.colaboratory.intrinsic+json": {
              "type": "string"
            }
          },
          "metadata": {},
          "execution_count": 37
        }
      ],
      "source": [
        "np.__version__"
      ]
    },
    {
      "cell_type": "markdown",
      "source": [
        "# Question 2\n",
        "`Answer: 11914`"
      ],
      "metadata": {
        "id": "PCzqsk8ERBFk"
      }
    },
    {
      "cell_type": "code",
      "source": [
        "car_price_data = pd.read_csv('https://raw.githubusercontent.com/alexeygrigorev/mlbookcamp-code/master/chapter-02-car-price/data.csv')"
      ],
      "metadata": {
        "id": "9vWAuS0ZQ8zE"
      },
      "execution_count": 38,
      "outputs": []
    },
    {
      "cell_type": "code",
      "source": [
        "car_price_data.shape"
      ],
      "metadata": {
        "colab": {
          "base_uri": "https://localhost:8080/"
        },
        "id": "VQANMsHrSBMC",
        "outputId": "3932849d-66be-474f-fcc6-d4b73c24fe94"
      },
      "execution_count": 39,
      "outputs": [
        {
          "output_type": "execute_result",
          "data": {
            "text/plain": [
              "(11914, 16)"
            ]
          },
          "metadata": {},
          "execution_count": 39
        }
      ]
    },
    {
      "cell_type": "markdown",
      "source": [
        "# Question 3\n",
        "`Answer: Chevrolet, Ford, Volkswagen`"
      ],
      "metadata": {
        "id": "jfFXVKK8RTWN"
      }
    },
    {
      "cell_type": "code",
      "source": [
        "car_price_data.Make.value_counts()[:3]"
      ],
      "metadata": {
        "colab": {
          "base_uri": "https://localhost:8080/"
        },
        "id": "qlvh6J0tRXAf",
        "outputId": "eae8a58c-fa7f-4a4e-b9dd-8c90538347ef"
      },
      "execution_count": 40,
      "outputs": [
        {
          "output_type": "execute_result",
          "data": {
            "text/plain": [
              "Chevrolet     1123\n",
              "Ford           881\n",
              "Volkswagen     809\n",
              "Name: Make, dtype: int64"
            ]
          },
          "metadata": {},
          "execution_count": 40
        }
      ]
    },
    {
      "cell_type": "markdown",
      "source": [
        "# Question 4\n",
        "`Answer: 34`"
      ],
      "metadata": {
        "id": "I361ws8zSuho"
      }
    },
    {
      "cell_type": "code",
      "source": [
        "car_price_data.Make.unique()"
      ],
      "metadata": {
        "colab": {
          "base_uri": "https://localhost:8080/"
        },
        "id": "41ljmG4ISgIM",
        "outputId": "8880cf94-b1d5-4e85-bcd5-a3ba0e56f0c6"
      },
      "execution_count": 41,
      "outputs": [
        {
          "output_type": "execute_result",
          "data": {
            "text/plain": [
              "array(['BMW', 'Audi', 'FIAT', 'Mercedes-Benz', 'Chrysler', 'Nissan',\n",
              "       'Volvo', 'Mazda', 'Mitsubishi', 'Ferrari', 'Alfa Romeo', 'Toyota',\n",
              "       'McLaren', 'Maybach', 'Pontiac', 'Porsche', 'Saab', 'GMC',\n",
              "       'Hyundai', 'Plymouth', 'Honda', 'Oldsmobile', 'Suzuki', 'Ford',\n",
              "       'Cadillac', 'Kia', 'Bentley', 'Chevrolet', 'Dodge', 'Lamborghini',\n",
              "       'Lincoln', 'Subaru', 'Volkswagen', 'Spyker', 'Buick', 'Acura',\n",
              "       'Rolls-Royce', 'Maserati', 'Lexus', 'Aston Martin', 'Land Rover',\n",
              "       'Lotus', 'Infiniti', 'Scion', 'Genesis', 'HUMMER', 'Tesla',\n",
              "       'Bugatti'], dtype=object)"
            ]
          },
          "metadata": {},
          "execution_count": 41
        }
      ]
    },
    {
      "cell_type": "code",
      "source": [
        "car_price_data[car_price_data['Make']=='Audi'].Model.nunique()"
      ],
      "metadata": {
        "colab": {
          "base_uri": "https://localhost:8080/"
        },
        "id": "NH-7debLTE6s",
        "outputId": "e15e894d-ac23-40f2-82d7-8615c73d196c"
      },
      "execution_count": 42,
      "outputs": [
        {
          "output_type": "execute_result",
          "data": {
            "text/plain": [
              "34"
            ]
          },
          "metadata": {},
          "execution_count": 42
        }
      ]
    },
    {
      "cell_type": "markdown",
      "source": [
        "# Question 5\n",
        "`Answer: 5`"
      ],
      "metadata": {
        "id": "Hv-2Ew79UvH_"
      }
    },
    {
      "cell_type": "code",
      "source": [
        "null_col = car_price_data.isna().sum().values > 0\n",
        "null_col.sum()"
      ],
      "metadata": {
        "colab": {
          "base_uri": "https://localhost:8080/"
        },
        "id": "9lM2kt_OUowq",
        "outputId": "71887590-09eb-403b-d946-1f29215400f0"
      },
      "execution_count": 43,
      "outputs": [
        {
          "output_type": "execute_result",
          "data": {
            "text/plain": [
              "5"
            ]
          },
          "metadata": {},
          "execution_count": 43
        }
      ]
    },
    {
      "cell_type": "markdown",
      "source": [
        "# Question 6\n",
        "`Answer: No`"
      ],
      "metadata": {
        "id": "oML5CIkxYNe9"
      }
    },
    {
      "cell_type": "code",
      "source": [
        "car_price_data['Engine Cylinders'].median()           # median with null values"
      ],
      "metadata": {
        "colab": {
          "base_uri": "https://localhost:8080/"
        },
        "id": "CI1vh7HRYSDa",
        "outputId": "3ecf2637-1df0-41d1-9833-0f0c9236f878"
      },
      "execution_count": 44,
      "outputs": [
        {
          "output_type": "execute_result",
          "data": {
            "text/plain": [
              "6.0"
            ]
          },
          "metadata": {},
          "execution_count": 44
        }
      ]
    },
    {
      "cell_type": "code",
      "source": [
        "most_freq = float(car_price_data['Engine Cylinders'].mode())\n",
        "most_freq"
      ],
      "metadata": {
        "colab": {
          "base_uri": "https://localhost:8080/"
        },
        "id": "lX2TNYeAY8Ex",
        "outputId": "4503f1be-b0f4-46ad-cd2e-a53b41d3ac25"
      },
      "execution_count": 45,
      "outputs": [
        {
          "output_type": "execute_result",
          "data": {
            "text/plain": [
              "4.0"
            ]
          },
          "metadata": {},
          "execution_count": 45
        }
      ]
    },
    {
      "cell_type": "code",
      "source": [
        "car_price_data['Engine Cylinders'].fillna(most_freq, inplace=True)"
      ],
      "metadata": {
        "id": "M88AinX2ZbSo"
      },
      "execution_count": 46,
      "outputs": []
    },
    {
      "cell_type": "code",
      "source": [
        "car_price_data['Engine Cylinders'].median()   # median after filling null values"
      ],
      "metadata": {
        "colab": {
          "base_uri": "https://localhost:8080/"
        },
        "id": "JNcNihSNc7_M",
        "outputId": "df90b099-b9a1-432e-f145-65b637b4ce93"
      },
      "execution_count": 47,
      "outputs": [
        {
          "output_type": "execute_result",
          "data": {
            "text/plain": [
              "6.0"
            ]
          },
          "metadata": {},
          "execution_count": 47
        }
      ]
    },
    {
      "cell_type": "markdown",
      "source": [
        "# Question 7\n",
        "`Answer: 4.594944810094551`"
      ],
      "metadata": {
        "id": "TqdsN9XwdUEb"
      }
    },
    {
      "cell_type": "code",
      "source": [
        "X = car_price_data[car_price_data['Make']=='Lotus'][['Engine HP', 'Engine Cylinders']].drop_duplicates().values\n",
        "X"
      ],
      "metadata": {
        "colab": {
          "base_uri": "https://localhost:8080/"
        },
        "id": "zYHPonCEdqbu",
        "outputId": "80974d06-13e2-4b92-ece1-429886bafaa9"
      },
      "execution_count": 48,
      "outputs": [
        {
          "output_type": "execute_result",
          "data": {
            "text/plain": [
              "array([[189.,   4.],\n",
              "       [218.,   4.],\n",
              "       [217.,   4.],\n",
              "       [350.,   8.],\n",
              "       [400.,   6.],\n",
              "       [276.,   6.],\n",
              "       [345.,   6.],\n",
              "       [257.,   4.],\n",
              "       [240.,   4.]])"
            ]
          },
          "metadata": {},
          "execution_count": 48
        }
      ]
    },
    {
      "cell_type": "code",
      "source": [
        "XTX = X.T.dot(X)\n",
        "XTX_inv = np.linalg.inv(XTX)"
      ],
      "metadata": {
        "id": "ZkEqLj36dwR0"
      },
      "execution_count": 49,
      "outputs": []
    },
    {
      "cell_type": "code",
      "source": [
        "y = np.array([1100, 800, 750, 850, 1300, 1000, 1000, 1300, 800])"
      ],
      "metadata": {
        "id": "Ab1zEkLmibJS"
      },
      "execution_count": 50,
      "outputs": []
    },
    {
      "cell_type": "code",
      "source": [
        "w = XTX_inv.dot(X.T).dot(y)\n",
        "w[0]"
      ],
      "metadata": {
        "colab": {
          "base_uri": "https://localhost:8080/"
        },
        "id": "JHdWSVe0irTs",
        "outputId": "5ccc2972-69fb-4c06-85eb-9e920881bb6d"
      },
      "execution_count": 51,
      "outputs": [
        {
          "output_type": "execute_result",
          "data": {
            "text/plain": [
              "4.594944810094551"
            ]
          },
          "metadata": {},
          "execution_count": 51
        }
      ]
    }
  ]
}